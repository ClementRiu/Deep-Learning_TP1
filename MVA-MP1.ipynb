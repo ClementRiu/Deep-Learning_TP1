{
 "cells": [
  {
   "cell_type": "markdown",
   "metadata": {},
   "source": [
    "# <p style=\"text-align: center;\"> Deep-Learning Mini-Project 1 : </p>\n",
    "# <p style=\"text-align: center;\"> Image Classification and Regression </p>\n",
    "\n",
    "#### <p style=\"text-align: center;\"> Clément RIU </p>\n",
    "\n",
    "#### <p style=\"text-align: center;\"> 07/12/2018 </p>\n"
   ]
  },
  {
   "cell_type": "code",
   "execution_count": 1,
   "metadata": {},
   "outputs": [
    {
     "name": "stderr",
     "output_type": "stream",
     "text": [
      "Using TensorFlow backend.\n"
     ]
    }
   ],
   "source": [
    "import matplotlib.pyplot as plt\n",
    "import numpy as np\n",
    "from keras.utils.np_utils import to_categorical\n",
    "\n",
    "\n",
    "\n",
    "# On some implementations of matplotlib, you may need to change this value\n",
    "IMAGE_SIZE = 72\n",
    "\n",
    "def generate_a_drawing(figsize, U, V, noise=0.0):\n",
    "    fig = plt.figure(figsize=(figsize,figsize))\n",
    "    ax = plt.subplot(111)\n",
    "    plt.axis('Off')\n",
    "    ax.set_xlim(0,figsize)\n",
    "    ax.set_ylim(0,figsize)\n",
    "    ax.fill(U, V, \"k\")\n",
    "    fig.canvas.draw()\n",
    "    imdata = np.frombuffer(fig.canvas.tostring_rgb(), dtype=np.uint8)[::3].astype(np.float32)\n",
    "    imdata = imdata + noise * np.random.random(imdata.size)\n",
    "    plt.close(fig)\n",
    "    return imdata\n",
    "\n",
    "def generate_a_rectangle(noise=0.0, free_location=False):\n",
    "    figsize = 1.0\n",
    "    U = np.zeros(4)\n",
    "    V = np.zeros(4)\n",
    "    if free_location:\n",
    "        corners = np.random.random(4)\n",
    "        top = max(corners[0], corners[1])\n",
    "        bottom = min(corners[0], corners[1])\n",
    "        left = min(corners[2], corners[3])\n",
    "        right = max(corners[2], corners[3])\n",
    "    else:\n",
    "        side = (0.3 + 0.7 * np.random.random()) * figsize\n",
    "        top = figsize/2 + side/2\n",
    "        bottom = figsize/2 - side/2\n",
    "        left = bottom\n",
    "        right = top\n",
    "    U[0] = U[1] = top\n",
    "    U[2] = U[3] = bottom\n",
    "    V[0] = V[3] = left\n",
    "    V[1] = V[2] = right\n",
    "    return generate_a_drawing(figsize, U, V, noise)\n",
    "\n",
    "def generate_a_disk(noise=0.0, free_location=False):\n",
    "    figsize = 1.0\n",
    "    if free_location:\n",
    "        center = np.random.random(2)\n",
    "    else:\n",
    "        center = (figsize/2, figsize/2)\n",
    "    radius = (0.3 + 0.7 * np.random.random()) * figsize/2\n",
    "    N = 50\n",
    "    U = np.zeros(N)\n",
    "    V = np.zeros(N)\n",
    "    i = 0\n",
    "    for t in np.linspace(0, 2*np.pi, N):\n",
    "        U[i] = center[0] + np.cos(t) * radius\n",
    "        V[i] = center[1] + np.sin(t) * radius\n",
    "        i = i + 1\n",
    "    return generate_a_drawing(figsize, U, V, noise)\n",
    "\n",
    "def generate_a_triangle(noise=0.0, free_location=False):\n",
    "    figsize = 1.0\n",
    "    if free_location:\n",
    "        U = np.random.random(3)\n",
    "        V = np.random.random(3)\n",
    "    else:\n",
    "        size = (0.3 + 0.7 * np.random.random())*figsize/2\n",
    "        middle = figsize/2\n",
    "        U = (middle, middle+size, middle-size)\n",
    "        V = (middle+size, middle-size, middle-size)\n",
    "    imdata = generate_a_drawing(figsize, U, V, noise)\n",
    "    return [imdata, [U[0], V[0], U[1], V[1], U[2], V[2]]]\n",
    "\n",
    "def generate_dataset_classification(nb_samples, noise=0.0, free_location=False):\n",
    "    # Getting im_size:\n",
    "    im_size = generate_a_rectangle().shape[0]\n",
    "    X = np.zeros([nb_samples,im_size])\n",
    "    Y = np.zeros(nb_samples)\n",
    "    print('Creating data:')\n",
    "    for i in range(nb_samples):\n",
    "        if i % 10 == 0:\n",
    "            print(i)\n",
    "        category = np.random.randint(3)\n",
    "        if category == 0:\n",
    "            X[i] = generate_a_rectangle(noise, free_location)\n",
    "        elif category == 1:\n",
    "            X[i] = generate_a_disk(noise, free_location)\n",
    "        else:\n",
    "            [X[i], V] = generate_a_triangle(noise, free_location)\n",
    "        Y[i] = category\n",
    "    X = (X + noise) / (255 + 2 * noise)\n",
    "    return [X, Y]\n",
    "\n",
    "\n",
    "def generate_test_set_classification():\n",
    "    np.random.seed(42)\n",
    "    [X_test, Y_test] = generate_dataset_classification(300, 20, True)\n",
    "    Y_test = to_categorical(Y_test, 3)\n",
    "    return [X_test, Y_test]\n",
    "\n",
    "def generate_dataset_regression(nb_samples, noise=0.0):\n",
    "    # Getting im_size:\n",
    "    im_size = generate_a_triangle()[0].shape[0]\n",
    "    X = np.zeros([nb_samples,im_size])\n",
    "    Y = np.zeros([nb_samples, 6])\n",
    "    print('Creating data:')\n",
    "    for i in range(nb_samples):\n",
    "        if i % 10 == 0:\n",
    "            print(i)\n",
    "        [X[i], Y[i]] = generate_a_triangle(noise, True)\n",
    "    X = (X + noise) / (255 + 2 * noise)\n",
    "    return [X, Y]\n",
    "\n",
    "import matplotlib.patches as patches\n",
    "\n",
    "def visualize_prediction(x, y):\n",
    "    fig, ax = plt.subplots(figsize=(5, 5))\n",
    "    I = x.reshape((IMAGE_SIZE,IMAGE_SIZE))\n",
    "    ax.imshow(I, extent=[-0.15,1.15,-0.15,1.15],cmap='gray')\n",
    "    ax.set_xlim([0,1])\n",
    "    ax.set_ylim([0,1])\n",
    "\n",
    "    xy = y.reshape(3,2)\n",
    "    tri = patches.Polygon(xy, closed=True, fill = False, edgecolor = 'r', linewidth = 5, alpha = 0.5)\n",
    "    ax.add_patch(tri)\n",
    "\n",
    "    plt.show()\n",
    "\n",
    "def generate_test_set_regression():\n",
    "    np.random.seed(42)\n",
    "    [X_test, Y_test] = generate_dataset_regression(300, 20)\n",
    "    return [X_test, Y_test]"
   ]
  },
  {
   "cell_type": "code",
   "execution_count": 2,
   "metadata": {},
   "outputs": [
    {
     "data": {
      "image/png": "[encoded data removed]",
      "text/plain": [
       "<Figure size 432x288 with 1 Axes>"
      ]
     },
     "metadata": {
      "needs_background": "light"
     },
     "output_type": "display_data"
    },
    {
     "data": {
      "image/png": "[encoded data removed]",
      "text/plain": [
       "<Figure size 432x288 with 1 Axes>"
      ]
     },
     "metadata": {
      "needs_background": "light"
     },
     "output_type": "display_data"
    },
    {
     "data": {
      "image/png": "[encoded data removed]",
      "text/plain": [
       "<Figure size 432x288 with 1 Axes>"
      ]
     },
     "metadata": {
      "needs_background": "light"
     },
     "output_type": "display_data"
    }
   ],
   "source": [
    "im = generate_a_rectangle(10, True)\n",
    "plt.imshow(im.reshape(IMAGE_SIZE,IMAGE_SIZE), cmap='gray')\n",
    "plt.show()\n",
    "im = generate_a_disk(10)\n",
    "plt.imshow(im.reshape(IMAGE_SIZE,IMAGE_SIZE), cmap='gray')\n",
    "plt.show()\n",
    "[im, v] = generate_a_triangle(20, False)\n",
    "plt.imshow(im.reshape(IMAGE_SIZE,IMAGE_SIZE), cmap='gray')\n",
    "plt.show()"
   ]
  },
  {
   "cell_type": "markdown",
   "metadata": {},
   "source": [
    "## 3 Simple Classification"
   ]
  },
  {
   "cell_type": "code",
   "execution_count": 3,
   "metadata": {},
   "outputs": [],
   "source": [
    "NB_image = 3000"
   ]
  },
  {
   "cell_type": "code",
   "execution_count": 4,
   "metadata": {
    "scrolled": true
   },
   "outputs": [
    {
     "name": "stdout",
     "output_type": "stream",
     "text": [
      "Creating data:\n",
      "0\n",
      "10\n",
      "20\n",
      "30\n",
      "40\n",
      "50\n",
      "60\n",
      "70\n",
      "80\n",
      "90\n",
      "100\n",
      "110\n",
      "120\n",
      "130\n",
      "140\n",
      "150\n",
      "160\n",
      "170\n",
      "180\n",
      "190\n",
      "200\n",
      "210\n",
      "220\n",
      "230\n",
      "240\n",
      "250\n",
      "260\n",
      "270\n",
      "280\n",
      "290\n",
      "300\n",
      "310\n",
      "320\n",
      "330\n",
      "340\n",
      "350\n",
      "360\n",
      "370\n",
      "380\n",
      "390\n",
      "400\n",
      "410\n",
      "420\n",
      "430\n",
      "440\n",
      "450\n",
      "460\n",
      "470\n",
      "480\n",
      "490\n",
      "500\n",
      "510\n",
      "520\n",
      "530\n",
      "540\n",
      "550\n",
      "560\n",
      "570\n",
      "580\n",
      "590\n",
      "600\n",
      "610\n",
      "620\n",
      "630\n",
      "640\n",
      "650\n",
      "660\n",
      "670\n",
      "680\n",
      "690\n",
      "700\n",
      "710\n",
      "720\n",
      "730\n",
      "740\n",
      "750\n",
      "760\n",
      "770\n",
      "780\n",
      "790\n",
      "800\n",
      "810\n",
      "820\n",
      "830\n",
      "840\n",
      "850\n",
      "860\n",
      "870\n",
      "880\n",
      "890\n",
      "900\n",
      "910\n",
      "920\n",
      "930\n",
      "940\n",
      "950\n",
      "960\n",
      "970\n",
      "980\n",
      "990\n",
      "1000\n",
      "1010\n",
      "1020\n",
      "1030\n",
      "1040\n",
      "1050\n",
      "1060\n",
      "1070\n",
      "1080\n",
      "1090\n",
      "1100\n",
      "1110\n",
      "1120\n",
      "1130\n",
      "1140\n",
      "1150\n",
      "1160\n",
      "1170\n",
      "1180\n",
      "1190\n",
      "1200\n",
      "1210\n",
      "1220\n",
      "1230\n",
      "1240\n",
      "1250\n",
      "1260\n",
      "1270\n",
      "1280\n",
      "1290\n",
      "1300\n",
      "1310\n",
      "1320\n",
      "1330\n",
      "1340\n",
      "1350\n",
      "1360\n",
      "1370\n",
      "1380\n",
      "1390\n",
      "1400\n",
      "1410\n",
      "1420\n",
      "1430\n",
      "1440\n",
      "1450\n",
      "1460\n",
      "1470\n",
      "1480\n",
      "1490\n",
      "1500\n",
      "1510\n",
      "1520\n",
      "1530\n",
      "1540\n",
      "1550\n",
      "1560\n",
      "1570\n",
      "1580\n",
      "1590\n",
      "1600\n",
      "1610\n",
      "1620\n",
      "1630\n",
      "1640\n",
      "1650\n",
      "1660\n",
      "1670\n",
      "1680\n",
      "1690\n",
      "1700\n",
      "1710\n",
      "1720\n",
      "1730\n",
      "1740\n",
      "1750\n",
      "1760\n",
      "1770\n",
      "1780\n",
      "1790\n",
      "1800\n",
      "1810\n",
      "1820\n",
      "1830\n",
      "1840\n",
      "1850\n",
      "1860\n",
      "1870\n",
      "1880\n",
      "1890\n",
      "1900\n",
      "1910\n",
      "1920\n",
      "1930\n",
      "1940\n",
      "1950\n",
      "1960\n",
      "1970\n",
      "1980\n",
      "1990\n",
      "2000\n",
      "2010\n",
      "2020\n",
      "2030\n",
      "2040\n",
      "2050\n",
      "2060\n",
      "2070\n",
      "2080\n",
      "2090\n",
      "2100\n",
      "2110\n",
      "2120\n",
      "2130\n",
      "2140\n",
      "2150\n",
      "2160\n",
      "2170\n",
      "2180\n",
      "2190\n",
      "2200\n",
      "2210\n",
      "2220\n",
      "2230\n",
      "2240\n",
      "2250\n",
      "2260\n",
      "2270\n",
      "2280\n",
      "2290\n",
      "2300\n",
      "2310\n",
      "2320\n",
      "2330\n",
      "2340\n",
      "2350\n",
      "2360\n",
      "2370\n",
      "2380\n",
      "2390\n",
      "2400\n",
      "2410\n",
      "2420\n",
      "2430\n",
      "2440\n",
      "2450\n",
      "2460\n",
      "2470\n",
      "2480\n",
      "2490\n",
      "2500\n",
      "2510\n",
      "2520\n",
      "2530\n",
      "2540\n",
      "2550\n",
      "2560\n",
      "2570\n",
      "2580\n",
      "2590\n",
      "2600\n",
      "2610\n",
      "2620\n",
      "2630\n",
      "2640\n",
      "2650\n",
      "2660\n",
      "2670\n",
      "2680\n",
      "2690\n",
      "2700\n",
      "2710\n",
      "2720\n",
      "2730\n",
      "2740\n",
      "2750\n",
      "2760\n",
      "2770\n",
      "2780\n",
      "2790\n",
      "2800\n",
      "2810\n",
      "2820\n",
      "2830\n",
      "2840\n",
      "2850\n",
      "2860\n",
      "2870\n",
      "2880\n",
      "2890\n",
      "2900\n",
      "2910\n",
      "2920\n",
      "2930\n",
      "2940\n",
      "2950\n",
      "2960\n",
      "2970\n",
      "2980\n",
      "2990\n"
     ]
    }
   ],
   "source": [
    "[X_train, Y_train] = generate_dataset_classification(NB_image, 20)"
   ]
  },
  {
   "cell_type": "code",
   "execution_count": 5,
   "metadata": {},
   "outputs": [],
   "source": [
    "Y_train_bin = to_categorical(Y_train)"
   ]
  },
  {
   "cell_type": "code",
   "execution_count": 6,
   "metadata": {},
   "outputs": [],
   "source": [
    "from keras.optimizers import SGD, Adam\n",
    "sgd = SGD(lr=0.001,\n",
    "          decay=1e-6,\n",
    "          momentum=0.9,\n",
    "          nesterov=True)\n",
    "adam = Adam(lr=0.0001,\n",
    "            beta_1=0.9,\n",
    "            beta_2=0.999,\n",
    "            epsilon=None,\n",
    "            decay=0.0,\n",
    "            amsgrad=False)"
   ]
  },
  {
   "cell_type": "code",
   "execution_count": 7,
   "metadata": {},
   "outputs": [],
   "source": [
    "from keras.models import Sequential\n",
    "from keras.layers import Dense, Activation\n",
    "nb_neurons1 = 3\n",
    "model = Sequential([\n",
    "    Dense(nb_neurons1, input_shape=(X_train.shape[1],)),\n",
    "    Activation('softmax'),\n",
    "])"
   ]
  },
  {
   "cell_type": "code",
   "execution_count": 8,
   "metadata": {},
   "outputs": [],
   "source": [
    "model.compile(loss='categorical_crossentropy',\n",
    "              optimizer='adam')"
   ]
  },
  {
   "cell_type": "code",
   "execution_count": 9,
   "metadata": {},
   "outputs": [],
   "source": [
    "epochs=50"
   ]
  },
  {
   "cell_type": "code",
   "execution_count": 10,
   "metadata": {
    "scrolled": true
   },
   "outputs": [
    {
     "name": "stdout",
     "output_type": "stream",
     "text": [
      "Epoch 1/50\n",
      "3000/3000 [==============================] - 0s 94us/step - loss: 0.6015\n",
      "Epoch 2/50\n",
      "3000/3000 [==============================] - 0s 52us/step - loss: 0.1349\n",
      "Epoch 3/50\n",
      "3000/3000 [==============================] - 0s 61us/step - loss: 0.0714\n",
      "Epoch 4/50\n",
      "3000/3000 [==============================] - 0s 67us/step - loss: 0.0422\n",
      "Epoch 5/50\n",
      "3000/3000 [==============================] - 0s 53us/step - loss: 0.0285\n",
      "Epoch 6/50\n",
      "3000/3000 [==============================] - 0s 53us/step - loss: 0.0224\n",
      "Epoch 7/50\n",
      "3000/3000 [==============================] - 0s 58us/step - loss: 0.0181\n",
      "Epoch 8/50\n",
      "3000/3000 [==============================] - 0s 63us/step - loss: 0.0136\n",
      "Epoch 9/50\n",
      "3000/3000 [==============================] - 0s 59us/step - loss: 0.0109\n",
      "Epoch 10/50\n",
      "3000/3000 [==============================] - 0s 57us/step - loss: 0.0091\n",
      "Epoch 11/50\n",
      "3000/3000 [==============================] - 0s 57us/step - loss: 0.0076\n",
      "Epoch 12/50\n",
      "3000/3000 [==============================] - 0s 56us/step - loss: 0.0066\n",
      "Epoch 13/50\n",
      "3000/3000 [==============================] - 0s 57us/step - loss: 0.0059\n",
      "Epoch 14/50\n",
      "3000/3000 [==============================] - 0s 55us/step - loss: 0.0050\n",
      "Epoch 15/50\n",
      "3000/3000 [==============================] - 0s 55us/step - loss: 0.0045\n",
      "Epoch 16/50\n",
      "3000/3000 [==============================] - 0s 63us/step - loss: 0.0040\n",
      "Epoch 17/50\n",
      "3000/3000 [==============================] - 0s 64us/step - loss: 0.0037\n",
      "Epoch 18/50\n",
      "3000/3000 [==============================] - 0s 67us/step - loss: 0.0033\n",
      "Epoch 19/50\n",
      "3000/3000 [==============================] - 0s 66us/step - loss: 0.0030\n",
      "Epoch 20/50\n",
      "3000/3000 [==============================] - 0s 65us/step - loss: 0.0027\n",
      "Epoch 21/50\n",
      "3000/3000 [==============================] - 0s 62us/step - loss: 0.0025\n",
      "Epoch 22/50\n",
      "3000/3000 [==============================] - 0s 65us/step - loss: 0.0022\n",
      "Epoch 23/50\n",
      "3000/3000 [==============================] - 0s 60us/step - loss: 0.0020\n",
      "Epoch 24/50\n",
      "3000/3000 [==============================] - 0s 59us/step - loss: 0.0019\n",
      "Epoch 25/50\n",
      "3000/3000 [==============================] - 0s 58us/step - loss: 0.0018\n",
      "Epoch 26/50\n",
      "3000/3000 [==============================] - 0s 64us/step - loss: 0.0017\n",
      "Epoch 27/50\n",
      "3000/3000 [==============================] - 0s 59us/step - loss: 0.0015\n",
      "Epoch 28/50\n",
      "3000/3000 [==============================] - 0s 60us/step - loss: 0.0014\n",
      "Epoch 29/50\n",
      "3000/3000 [==============================] - 0s 58us/step - loss: 0.0013\n",
      "Epoch 30/50\n",
      "3000/3000 [==============================] - 0s 62us/step - loss: 0.0012\n",
      "Epoch 31/50\n",
      "3000/3000 [==============================] - 0s 58us/step - loss: 0.0011\n",
      "Epoch 32/50\n",
      "3000/3000 [==============================] - 0s 58us/step - loss: 0.0011\n",
      "Epoch 33/50\n",
      "3000/3000 [==============================] - 0s 60us/step - loss: 9.8227e-04\n",
      "Epoch 34/50\n",
      "3000/3000 [==============================] - 0s 58us/step - loss: 9.0939e-04\n",
      "Epoch 35/50\n",
      "3000/3000 [==============================] - 0s 58us/step - loss: 8.5635e-04\n",
      "Epoch 36/50\n",
      "3000/3000 [==============================] - 0s 57us/step - loss: 8.1059e-04\n",
      "Epoch 37/50\n",
      "3000/3000 [==============================] - 0s 59us/step - loss: 7.6589e-04\n",
      "Epoch 38/50\n",
      "3000/3000 [==============================] - 0s 60us/step - loss: 7.1591e-04\n",
      "Epoch 39/50\n",
      "3000/3000 [==============================] - 0s 61us/step - loss: 6.7806e-04\n",
      "Epoch 40/50\n",
      "3000/3000 [==============================] - 0s 58us/step - loss: 6.3762e-04\n",
      "Epoch 41/50\n",
      "3000/3000 [==============================] - 0s 58us/step - loss: 6.0629e-04\n",
      "Epoch 42/50\n",
      "3000/3000 [==============================] - 0s 59us/step - loss: 5.5320e-04\n",
      "Epoch 43/50\n",
      "3000/3000 [==============================] - 0s 56us/step - loss: 5.3044e-04\n",
      "Epoch 44/50\n",
      "3000/3000 [==============================] - 0s 58us/step - loss: 4.9898e-04\n",
      "Epoch 45/50\n",
      "3000/3000 [==============================] - 0s 63us/step - loss: 4.6479e-04\n",
      "Epoch 46/50\n",
      "3000/3000 [==============================] - 0s 58us/step - loss: 4.4252e-04\n",
      "Epoch 47/50\n",
      "3000/3000 [==============================] - 0s 58us/step - loss: 4.1829e-04\n",
      "Epoch 48/50\n",
      "3000/3000 [==============================] - 0s 57us/step - loss: 3.9460e-04\n",
      "Epoch 49/50\n",
      "3000/3000 [==============================] - 0s 58us/step - loss: 3.7594e-04\n",
      "Epoch 50/50\n",
      "3000/3000 [==============================] - 0s 56us/step - loss: 3.5186e-04\n"
     ]
    },
    {
     "data": {
      "text/plain": [
       "<keras.callbacks.History at 0x7fb6201bbdd8>"
      ]
     },
     "execution_count": 10,
     "metadata": {},
     "output_type": "execute_result"
    }
   ],
   "source": [
    "model.fit(X_train, Y_train_bin, epochs=epochs, batch_size=32)"
   ]
  },
  {
   "cell_type": "code",
   "execution_count": 11,
   "metadata": {},
   "outputs": [
    {
     "name": "stdout",
     "output_type": "stream",
     "text": [
      "[255. 255. 255. ... 255. 255. 255.]\n"
     ]
    },
    {
     "data": {
      "text/plain": [
       "array([[1., 0., 0.]], dtype=float32)"
      ]
     },
     "execution_count": 11,
     "metadata": {},
     "output_type": "execute_result"
    }
   ],
   "source": [
    "X_test0 = generate_a_rectangle()\n",
    "print(X_test0)\n",
    "X_test0 = X_test0.reshape(1, X_test0.shape[0])\n",
    "model.predict(X_test0)"
   ]
  },
  {
   "cell_type": "code",
   "execution_count": 12,
   "metadata": {},
   "outputs": [
    {
     "name": "stdout",
     "output_type": "stream",
     "text": [
      "[255. 255. 255. ... 255. 255. 255.]\n"
     ]
    },
    {
     "data": {
      "text/plain": [
       "array([[0., 1., 0.]], dtype=float32)"
      ]
     },
     "execution_count": 12,
     "metadata": {},
     "output_type": "execute_result"
    }
   ],
   "source": [
    "X_test2 = generate_a_disk()\n",
    "print(X_test2)\n",
    "X_test2 = X_test2.reshape(1, X_test2.shape[0])\n",
    "model.predict(X_test2)"
   ]
  },
  {
   "cell_type": "code",
   "execution_count": 13,
   "metadata": {},
   "outputs": [
    {
     "name": "stdout",
     "output_type": "stream",
     "text": [
      "[255. 255. 255. ... 255. 255. 255.]\n"
     ]
    },
    {
     "data": {
      "text/plain": [
       "array([[0., 0., 1.]], dtype=float32)"
      ]
     },
     "execution_count": 13,
     "metadata": {},
     "output_type": "execute_result"
    }
   ],
   "source": [
    "X_test1 = generate_a_triangle()[0]\n",
    "print(X_test1)\n",
    "X_test1 = X_test1.reshape(1, X_test1.shape[0])\n",
    "model.predict(X_test1)"
   ]
  },
  {
   "cell_type": "markdown",
   "metadata": {},
   "source": [
    "We observe on the three different forms the expected output : $[1, 0, 0]$ for rectangle, $[0, 1, 0]$ for disk and $[0, 0, 1]$ for triangle."
   ]
  },
  {
   "cell_type": "markdown",
   "metadata": {},
   "source": [
    "## 4 Visualisation of the Solution"
   ]
  },
  {
   "cell_type": "code",
   "execution_count": 14,
   "metadata": {
    "scrolled": true
   },
   "outputs": [
    {
     "data": {
      "image/png": "[encoded data removed]",
      "text/plain": [
       "<Figure size 432x288 with 1 Axes>"
      ]
     },
     "metadata": {
      "needs_background": "light"
     },
     "output_type": "display_data"
    },
    {
     "data": {
      "image/png": "[encoded data removed]",
      "text/plain": [
       "<Figure size 432x288 with 1 Axes>"
      ]
     },
     "metadata": {
      "needs_background": "light"
     },
     "output_type": "display_data"
    },
    {
     "data": {
      "image/png": "[encoded data removed]",
      "text/plain": [
       "<Figure size 432x288 with 1 Axes>"
      ]
     },
     "metadata": {
      "needs_background": "light"
     },
     "output_type": "display_data"
    }
   ],
   "source": [
    "weights = model.get_weights()[0]\n",
    "for i in range (weights.shape[1]):\n",
    "    im = weights[:, i]\n",
    "    plt.imshow(im.reshape(IMAGE_SIZE,IMAGE_SIZE), cmap='gray')\n",
    "    plt.show()"
   ]
  },
  {
   "cell_type": "markdown",
   "metadata": {},
   "source": [
    "We can clearly see the different shapes appear in the weights matrix."
   ]
  },
  {
   "cell_type": "markdown",
   "metadata": {},
   "source": [
    "## 5 A More Difficult Classification Problem"
   ]
  },
  {
   "cell_type": "code",
   "execution_count": 15,
   "metadata": {
    "scrolled": true
   },
   "outputs": [
    {
     "name": "stdout",
     "output_type": "stream",
     "text": [
      "Creating data:\n",
      "0\n",
      "10\n",
      "20\n",
      "30\n",
      "40\n",
      "50\n",
      "60\n",
      "70\n",
      "80\n",
      "90\n",
      "100\n",
      "110\n",
      "120\n",
      "130\n",
      "140\n",
      "150\n",
      "160\n",
      "170\n",
      "180\n",
      "190\n",
      "200\n",
      "210\n",
      "220\n",
      "230\n",
      "240\n",
      "250\n",
      "260\n",
      "270\n",
      "280\n",
      "290\n",
      "300\n",
      "310\n",
      "320\n",
      "330\n",
      "340\n",
      "350\n",
      "360\n",
      "370\n",
      "380\n",
      "390\n",
      "400\n",
      "410\n",
      "420\n",
      "430\n",
      "440\n",
      "450\n",
      "460\n",
      "470\n",
      "480\n",
      "490\n",
      "500\n",
      "510\n",
      "520\n",
      "530\n",
      "540\n",
      "550\n",
      "560\n",
      "570\n",
      "580\n",
      "590\n",
      "600\n",
      "610\n",
      "620\n",
      "630\n",
      "640\n",
      "650\n",
      "660\n",
      "670\n",
      "680\n",
      "690\n",
      "700\n",
      "710\n",
      "720\n",
      "730\n",
      "740\n",
      "750\n",
      "760\n",
      "770\n",
      "780\n",
      "790\n",
      "800\n",
      "810\n",
      "820\n",
      "830\n",
      "840\n",
      "850\n",
      "860\n",
      "870\n",
      "880\n",
      "890\n",
      "900\n",
      "910\n",
      "920\n",
      "930\n",
      "940\n",
      "950\n",
      "960\n",
      "970\n",
      "980\n",
      "990\n",
      "1000\n",
      "1010\n",
      "1020\n",
      "1030\n",
      "1040\n",
      "1050\n",
      "1060\n",
      "1070\n",
      "1080\n",
      "1090\n",
      "1100\n",
      "1110\n",
      "1120\n",
      "1130\n",
      "1140\n",
      "1150\n",
      "1160\n",
      "1170\n",
      "1180\n",
      "1190\n",
      "1200\n",
      "1210\n",
      "1220\n",
      "1230\n",
      "1240\n",
      "1250\n",
      "1260\n",
      "1270\n",
      "1280\n",
      "1290\n",
      "1300\n",
      "1310\n",
      "1320\n",
      "1330\n",
      "1340\n",
      "1350\n",
      "1360\n",
      "1370\n",
      "1380\n",
      "1390\n",
      "1400\n",
      "1410\n",
      "1420\n",
      "1430\n",
      "1440\n",
      "1450\n",
      "1460\n",
      "1470\n",
      "1480\n",
      "1490\n",
      "1500\n",
      "1510\n",
      "1520\n",
      "1530\n",
      "1540\n",
      "1550\n",
      "1560\n",
      "1570\n",
      "1580\n",
      "1590\n",
      "1600\n",
      "1610\n",
      "1620\n",
      "1630\n",
      "1640\n",
      "1650\n",
      "1660\n",
      "1670\n",
      "1680\n",
      "1690\n",
      "1700\n",
      "1710\n",
      "1720\n",
      "1730\n",
      "1740\n",
      "1750\n",
      "1760\n",
      "1770\n",
      "1780\n",
      "1790\n",
      "1800\n",
      "1810\n",
      "1820\n",
      "1830\n",
      "1840\n",
      "1850\n",
      "1860\n",
      "1870\n",
      "1880\n",
      "1890\n",
      "1900\n",
      "1910\n",
      "1920\n",
      "1930\n",
      "1940\n",
      "1950\n",
      "1960\n",
      "1970\n",
      "1980\n",
      "1990\n",
      "2000\n",
      "2010\n",
      "2020\n",
      "2030\n",
      "2040\n",
      "2050\n",
      "2060\n",
      "2070\n",
      "2080\n",
      "2090\n",
      "2100\n",
      "2110\n",
      "2120\n",
      "2130\n",
      "2140\n",
      "2150\n",
      "2160\n",
      "2170\n",
      "2180\n",
      "2190\n",
      "2200\n",
      "2210\n",
      "2220\n",
      "2230\n",
      "2240\n",
      "2250\n",
      "2260\n",
      "2270\n",
      "2280\n",
      "2290\n",
      "2300\n",
      "2310\n",
      "2320\n",
      "2330\n",
      "2340\n",
      "2350\n",
      "2360\n",
      "2370\n",
      "2380\n",
      "2390\n",
      "2400\n",
      "2410\n",
      "2420\n",
      "2430\n",
      "2440\n",
      "2450\n",
      "2460\n",
      "2470\n",
      "2480\n",
      "2490\n",
      "2500\n",
      "2510\n",
      "2520\n",
      "2530\n",
      "2540\n",
      "2550\n",
      "2560\n",
      "2570\n",
      "2580\n",
      "2590\n",
      "2600\n",
      "2610\n",
      "2620\n",
      "2630\n",
      "2640\n",
      "2650\n",
      "2660\n",
      "2670\n",
      "2680\n",
      "2690\n",
      "2700\n",
      "2710\n",
      "2720\n",
      "2730\n",
      "2740\n",
      "2750\n",
      "2760\n",
      "2770\n",
      "2780\n",
      "2790\n",
      "2800\n",
      "2810\n",
      "2820\n",
      "2830\n",
      "2840\n",
      "2850\n",
      "2860\n",
      "2870\n",
      "2880\n",
      "2890\n",
      "2900\n",
      "2910\n",
      "2920\n",
      "2930\n",
      "2940\n",
      "2950\n",
      "2960\n",
      "2970\n",
      "2980\n",
      "2990\n"
     ]
    }
   ],
   "source": [
    "[X_train, Y_train] = generate_dataset_classification(NB_image, 20, True)"
   ]
  },
  {
   "cell_type": "code",
   "execution_count": 16,
   "metadata": {},
   "outputs": [],
   "source": [
    "Y_train_bin = to_categorical(Y_train)"
   ]
  },
  {
   "cell_type": "code",
   "execution_count": 17,
   "metadata": {},
   "outputs": [],
   "source": [
    "from keras.models import Sequential\n",
    "from keras.layers import Dense, Activation\n",
    "nb_neurons1 = 3\n",
    "model = Sequential([\n",
    "    Dense(nb_neurons1, input_shape=(X_train.shape[1],)),\n",
    "    Activation('softmax'),\n",
    "])"
   ]
  },
  {
   "cell_type": "code",
   "execution_count": 18,
   "metadata": {},
   "outputs": [],
   "source": [
    "model.compile(loss='categorical_crossentropy',\n",
    "              optimizer='adam',\n",
    "              metrics=['accuracy']\n",
    "             )"
   ]
  },
  {
   "cell_type": "code",
   "execution_count": 19,
   "metadata": {
    "scrolled": true
   },
   "outputs": [
    {
     "name": "stdout",
     "output_type": "stream",
     "text": [
      "Epoch 1/50\n",
      "3000/3000 [==============================] - 0s 110us/step - loss: 1.2845 - acc: 0.4540\n",
      "Epoch 2/50\n",
      "3000/3000 [==============================] - 0s 55us/step - loss: 0.9150 - acc: 0.5413\n",
      "Epoch 3/50\n",
      "3000/3000 [==============================] - 0s 58us/step - loss: 0.9200 - acc: 0.5353\n",
      "Epoch 4/50\n",
      "3000/3000 [==============================] - 0s 56us/step - loss: 0.9479 - acc: 0.5690\n",
      "Epoch 5/50\n",
      "3000/3000 [==============================] - 0s 63us/step - loss: 0.8220 - acc: 0.6020\n",
      "Epoch 6/50\n",
      "3000/3000 [==============================] - 0s 56us/step - loss: 0.9479 - acc: 0.5837\n",
      "Epoch 7/50\n",
      "3000/3000 [==============================] - 0s 61us/step - loss: 0.8936 - acc: 0.6010\n",
      "Epoch 8/50\n",
      "3000/3000 [==============================] - 0s 61us/step - loss: 0.8674 - acc: 0.6013\n",
      "Epoch 9/50\n",
      "3000/3000 [==============================] - 0s 58us/step - loss: 0.8041 - acc: 0.6080\n",
      "Epoch 10/50\n",
      "3000/3000 [==============================] - 0s 63us/step - loss: 0.8115 - acc: 0.6103\n",
      "Epoch 11/50\n",
      "3000/3000 [==============================] - 0s 60us/step - loss: 0.7653 - acc: 0.6300\n",
      "Epoch 12/50\n",
      "3000/3000 [==============================] - 0s 55us/step - loss: 0.7948 - acc: 0.6190\n",
      "Epoch 13/50\n",
      "3000/3000 [==============================] - 0s 54us/step - loss: 0.7450 - acc: 0.6357\n",
      "Epoch 14/50\n",
      "3000/3000 [==============================] - 0s 56us/step - loss: 0.8032 - acc: 0.6190\n",
      "Epoch 15/50\n",
      "3000/3000 [==============================] - 0s 58us/step - loss: 0.8411 - acc: 0.6133\n",
      "Epoch 16/50\n",
      "3000/3000 [==============================] - 0s 55us/step - loss: 0.7722 - acc: 0.6203\n",
      "Epoch 17/50\n",
      "3000/3000 [==============================] - 0s 58us/step - loss: 0.7892 - acc: 0.6203\n",
      "Epoch 18/50\n",
      "3000/3000 [==============================] - 0s 63us/step - loss: 0.8286 - acc: 0.6153\n",
      "Epoch 19/50\n",
      "3000/3000 [==============================] - 0s 62us/step - loss: 0.7726 - acc: 0.6390\n",
      "Epoch 20/50\n",
      "3000/3000 [==============================] - 0s 54us/step - loss: 0.6981 - acc: 0.6617\n",
      "Epoch 21/50\n",
      "3000/3000 [==============================] - 0s 58us/step - loss: 0.7824 - acc: 0.6287\n",
      "Epoch 22/50\n",
      "3000/3000 [==============================] - 0s 59us/step - loss: 0.6964 - acc: 0.6563\n",
      "Epoch 23/50\n",
      "3000/3000 [==============================] - 0s 55us/step - loss: 0.8056 - acc: 0.6280\n",
      "Epoch 24/50\n",
      "3000/3000 [==============================] - 0s 56us/step - loss: 0.7101 - acc: 0.6663\n",
      "Epoch 25/50\n",
      "3000/3000 [==============================] - 0s 56us/step - loss: 0.7595 - acc: 0.6423\n",
      "Epoch 26/50\n",
      "3000/3000 [==============================] - 0s 56us/step - loss: 0.7231 - acc: 0.6590\n",
      "Epoch 27/50\n",
      "3000/3000 [==============================] - 0s 55us/step - loss: 0.8250 - acc: 0.6300\n",
      "Epoch 28/50\n",
      "3000/3000 [==============================] - 0s 58us/step - loss: 0.7085 - acc: 0.6600\n",
      "Epoch 29/50\n",
      "3000/3000 [==============================] - 0s 54us/step - loss: 0.6943 - acc: 0.6577\n",
      "Epoch 30/50\n",
      "3000/3000 [==============================] - 0s 60us/step - loss: 0.7260 - acc: 0.6617\n",
      "Epoch 31/50\n",
      "3000/3000 [==============================] - 0s 56us/step - loss: 0.7327 - acc: 0.6537\n",
      "Epoch 32/50\n",
      "3000/3000 [==============================] - 0s 56us/step - loss: 0.7780 - acc: 0.6353\n",
      "Epoch 33/50\n",
      "3000/3000 [==============================] - 0s 59us/step - loss: 0.7537 - acc: 0.6397\n",
      "Epoch 34/50\n",
      "3000/3000 [==============================] - 0s 58us/step - loss: 0.7605 - acc: 0.6557\n",
      "Epoch 35/50\n",
      "3000/3000 [==============================] - 0s 57us/step - loss: 0.8024 - acc: 0.6377\n",
      "Epoch 36/50\n",
      "3000/3000 [==============================] - 0s 65us/step - loss: 0.7770 - acc: 0.6430\n",
      "Epoch 37/50\n",
      "3000/3000 [==============================] - 0s 63us/step - loss: 0.7074 - acc: 0.6660\n",
      "Epoch 38/50\n",
      "3000/3000 [==============================] - 0s 56us/step - loss: 0.6937 - acc: 0.6773\n",
      "Epoch 39/50\n",
      "3000/3000 [==============================] - 0s 57us/step - loss: 0.7895 - acc: 0.6527\n",
      "Epoch 40/50\n",
      "3000/3000 [==============================] - 0s 61us/step - loss: 0.6840 - acc: 0.6723\n",
      "Epoch 41/50\n",
      "3000/3000 [==============================] - 0s 58us/step - loss: 0.6487 - acc: 0.6927\n",
      "Epoch 42/50\n",
      "3000/3000 [==============================] - 0s 64us/step - loss: 0.6780 - acc: 0.6880\n",
      "Epoch 43/50\n",
      "3000/3000 [==============================] - 0s 56us/step - loss: 0.8199 - acc: 0.6377\n",
      "Epoch 44/50\n",
      "3000/3000 [==============================] - 0s 60us/step - loss: 0.6824 - acc: 0.6797\n",
      "Epoch 45/50\n",
      "3000/3000 [==============================] - 0s 63us/step - loss: 0.7104 - acc: 0.6767\n",
      "Epoch 46/50\n",
      "3000/3000 [==============================] - 0s 60us/step - loss: 0.6331 - acc: 0.6987\n",
      "Epoch 47/50\n",
      "3000/3000 [==============================] - 0s 56us/step - loss: 0.6737 - acc: 0.6757\n",
      "Epoch 48/50\n",
      "3000/3000 [==============================] - 0s 57us/step - loss: 0.6933 - acc: 0.6863\n",
      "Epoch 49/50\n",
      "3000/3000 [==============================] - 0s 55us/step - loss: 0.6514 - acc: 0.6850\n",
      "Epoch 50/50\n",
      "3000/3000 [==============================] - 0s 57us/step - loss: 0.6302 - acc: 0.7033\n"
     ]
    },
    {
     "data": {
      "text/plain": [
       "<keras.callbacks.History at 0x7fb6201bb128>"
      ]
     },
     "execution_count": 19,
     "metadata": {},
     "output_type": "execute_result"
    }
   ],
   "source": [
    "model.fit(X_train, Y_train_bin, epochs=epochs, batch_size=32)"
   ]
  },
  {
   "cell_type": "code",
   "execution_count": 20,
   "metadata": {
    "scrolled": true
   },
   "outputs": [
    {
     "name": "stdout",
     "output_type": "stream",
     "text": [
      "Creating data:\n",
      "0\n",
      "10\n",
      "20\n",
      "30\n",
      "40\n",
      "50\n",
      "60\n",
      "70\n",
      "80\n",
      "90\n",
      "100\n",
      "110\n",
      "120\n",
      "130\n",
      "140\n",
      "150\n",
      "160\n",
      "170\n",
      "180\n",
      "190\n",
      "200\n",
      "210\n",
      "220\n",
      "230\n",
      "240\n",
      "250\n",
      "260\n",
      "270\n",
      "280\n",
      "290\n"
     ]
    }
   ],
   "source": [
    "[X_test, Y_test] = generate_test_set_classification()"
   ]
  },
  {
   "cell_type": "code",
   "execution_count": 21,
   "metadata": {},
   "outputs": [
    {
     "name": "stdout",
     "output_type": "stream",
     "text": [
      "300/300 [==============================] - 0s 122us/step\n"
     ]
    },
    {
     "data": {
      "text/plain": [
       "[0.741676074663798, 0.6500000003973643]"
      ]
     },
     "execution_count": 21,
     "metadata": {},
     "output_type": "execute_result"
    }
   ],
   "source": [
    "model.evaluate(X_test, Y_test)"
   ]
  },
  {
   "cell_type": "markdown",
   "metadata": {},
   "source": [
    "Here we can see that the accuracy is around $60\\%$ which means the algorithm can learn a linear separation but it is not enough to completely separate the shapes."
   ]
  },
  {
   "cell_type": "code",
   "execution_count": 22,
   "metadata": {},
   "outputs": [],
   "source": [
    "X_train_carre = X_train.reshape(-1, IMAGE_SIZE, IMAGE_SIZE, 1)"
   ]
  },
  {
   "cell_type": "code",
   "execution_count": 23,
   "metadata": {},
   "outputs": [
    {
     "data": {
      "text/plain": [
       "(3000, 72, 72, 1)"
      ]
     },
     "execution_count": 23,
     "metadata": {},
     "output_type": "execute_result"
    }
   ],
   "source": [
    "X_train_carre.shape"
   ]
  },
  {
   "cell_type": "code",
   "execution_count": 24,
   "metadata": {},
   "outputs": [],
   "source": [
    "from keras.layers import Conv2D, MaxPooling2D, Flatten\n",
    "\n",
    "model_conv = Sequential([\n",
    "    Conv2D(16, (5, 5), input_shape=(IMAGE_SIZE, IMAGE_SIZE, 1)),\n",
    "    Activation('tanh'),\n",
    "    MaxPooling2D((2, 2)),\n",
    "    Flatten(),\n",
    "    Dense(3),\n",
    "    Activation('softmax'),\n",
    "])"
   ]
  },
  {
   "cell_type": "code",
   "execution_count": 25,
   "metadata": {},
   "outputs": [],
   "source": [
    "model_conv.compile(loss='categorical_crossentropy',\n",
    "                   optimizer='adam',\n",
    "                   metrics=['accuracy']\n",
    "                  )"
   ]
  },
  {
   "cell_type": "code",
   "execution_count": 26,
   "metadata": {},
   "outputs": [],
   "source": [
    "epochs=50"
   ]
  },
  {
   "cell_type": "code",
   "execution_count": 27,
   "metadata": {
    "scrolled": true
   },
   "outputs": [
    {
     "name": "stdout",
     "output_type": "stream",
     "text": [
      "Epoch 1/50\n",
      "3000/3000 [==============================] - 4s 1ms/step - loss: 0.9296 - acc: 0.6010\n",
      "Epoch 2/50\n",
      "3000/3000 [==============================] - 4s 1ms/step - loss: 0.6499 - acc: 0.7497\n",
      "Epoch 3/50\n",
      "3000/3000 [==============================] - 4s 1ms/step - loss: 0.5559 - acc: 0.7963\n",
      "Epoch 4/50\n",
      "3000/3000 [==============================] - 4s 1ms/step - loss: 0.4699 - acc: 0.8433\n",
      "Epoch 5/50\n",
      "3000/3000 [==============================] - 4s 1ms/step - loss: 0.4145 - acc: 0.8640\n",
      "Epoch 6/50\n",
      "3000/3000 [==============================] - 4s 1ms/step - loss: 0.3643 - acc: 0.8813\n",
      "Epoch 7/50\n",
      "3000/3000 [==============================] - 4s 1ms/step - loss: 0.3231 - acc: 0.8993\n",
      "Epoch 8/50\n",
      "3000/3000 [==============================] - 4s 1ms/step - loss: 0.2670 - acc: 0.9230\n",
      "Epoch 9/50\n",
      "3000/3000 [==============================] - 4s 1ms/step - loss: 0.2380 - acc: 0.9353\n",
      "Epoch 10/50\n",
      "3000/3000 [==============================] - 4s 1ms/step - loss: 0.2101 - acc: 0.9500\n",
      "Epoch 11/50\n",
      "3000/3000 [==============================] - 4s 1ms/step - loss: 0.1904 - acc: 0.9543\n",
      "Epoch 12/50\n",
      "3000/3000 [==============================] - 4s 1ms/step - loss: 0.1711 - acc: 0.9573\n",
      "Epoch 13/50\n",
      "3000/3000 [==============================] - 4s 1ms/step - loss: 0.1499 - acc: 0.9667\n",
      "Epoch 14/50\n",
      "3000/3000 [==============================] - 4s 1ms/step - loss: 0.1412 - acc: 0.9680\n",
      "Epoch 15/50\n",
      "3000/3000 [==============================] - 4s 1ms/step - loss: 0.1316 - acc: 0.9740\n",
      "Epoch 16/50\n",
      "3000/3000 [==============================] - 4s 1ms/step - loss: 0.1042 - acc: 0.9837\n",
      "Epoch 17/50\n",
      "3000/3000 [==============================] - 4s 1ms/step - loss: 0.0933 - acc: 0.9870\n",
      "Epoch 18/50\n",
      "3000/3000 [==============================] - 4s 1ms/step - loss: 0.0861 - acc: 0.9853\n",
      "Epoch 19/50\n",
      "3000/3000 [==============================] - 4s 1ms/step - loss: 0.0840 - acc: 0.9883\n",
      "Epoch 20/50\n",
      "3000/3000 [==============================] - 4s 1ms/step - loss: 0.0685 - acc: 0.9923\n",
      "Epoch 21/50\n",
      "3000/3000 [==============================] - 4s 1ms/step - loss: 0.0643 - acc: 0.9927\n",
      "Epoch 22/50\n",
      "3000/3000 [==============================] - 4s 1ms/step - loss: 0.0600 - acc: 0.9947\n",
      "Epoch 23/50\n",
      "3000/3000 [==============================] - 4s 1ms/step - loss: 0.0495 - acc: 0.9957\n",
      "Epoch 24/50\n",
      "3000/3000 [==============================] - 4s 1ms/step - loss: 0.0494 - acc: 0.9947\n",
      "Epoch 25/50\n",
      "3000/3000 [==============================] - 4s 1ms/step - loss: 0.0415 - acc: 0.9963\n",
      "Epoch 26/50\n",
      "3000/3000 [==============================] - 4s 1ms/step - loss: 0.0385 - acc: 0.9970\n",
      "Epoch 27/50\n",
      "3000/3000 [==============================] - 4s 1ms/step - loss: 0.0344 - acc: 0.9980\n",
      "Epoch 28/50\n",
      "3000/3000 [==============================] - 4s 1ms/step - loss: 0.0342 - acc: 0.9977\n",
      "Epoch 29/50\n",
      "3000/3000 [==============================] - 4s 1ms/step - loss: 0.0286 - acc: 0.9983\n",
      "Epoch 30/50\n",
      "3000/3000 [==============================] - 4s 1ms/step - loss: 0.0276 - acc: 0.9983\n",
      "Epoch 31/50\n",
      "3000/3000 [==============================] - 5s 2ms/step - loss: 0.0246 - acc: 0.9980\n",
      "Epoch 32/50\n",
      "3000/3000 [==============================] - 5s 2ms/step - loss: 0.0221 - acc: 0.9997\n",
      "Epoch 33/50\n",
      "3000/3000 [==============================] - 4s 1ms/step - loss: 0.0191 - acc: 0.9997\n",
      "Epoch 34/50\n",
      "3000/3000 [==============================] - 4s 1ms/step - loss: 0.0177 - acc: 0.9990\n",
      "Epoch 35/50\n",
      "3000/3000 [==============================] - 4s 1ms/step - loss: 0.0163 - acc: 0.9997\n",
      "Epoch 36/50\n",
      "3000/3000 [==============================] - 4s 1ms/step - loss: 0.0167 - acc: 0.9997\n",
      "Epoch 37/50\n",
      "3000/3000 [==============================] - 4s 1ms/step - loss: 0.0146 - acc: 0.9997\n",
      "Epoch 38/50\n",
      "3000/3000 [==============================] - 4s 1ms/step - loss: 0.0147 - acc: 1.0000\n",
      "Epoch 39/50\n",
      "3000/3000 [==============================] - 4s 1ms/step - loss: 0.0130 - acc: 1.0000\n",
      "Epoch 40/50\n",
      "3000/3000 [==============================] - 4s 1ms/step - loss: 0.0107 - acc: 0.9997\n",
      "Epoch 41/50\n",
      "3000/3000 [==============================] - 4s 1ms/step - loss: 0.0098 - acc: 1.0000\n",
      "Epoch 42/50\n",
      "3000/3000 [==============================] - 4s 1ms/step - loss: 0.0093 - acc: 1.0000\n",
      "Epoch 43/50\n",
      "3000/3000 [==============================] - 4s 1ms/step - loss: 0.0100 - acc: 1.0000\n",
      "Epoch 44/50\n",
      "3000/3000 [==============================] - 6s 2ms/step - loss: 0.0079 - acc: 1.0000\n",
      "Epoch 45/50\n",
      "3000/3000 [==============================] - 5s 2ms/step - loss: 0.0074 - acc: 1.0000\n",
      "Epoch 46/50\n",
      "3000/3000 [==============================] - 4s 1ms/step - loss: 0.0067 - acc: 1.0000\n",
      "Epoch 47/50\n",
      "3000/3000 [==============================] - 4s 1ms/step - loss: 0.0064 - acc: 1.0000\n",
      "Epoch 48/50\n",
      "3000/3000 [==============================] - 4s 1ms/step - loss: 0.0061 - acc: 1.0000\n",
      "Epoch 49/50\n",
      "3000/3000 [==============================] - 4s 1ms/step - loss: 0.0058 - acc: 1.0000\n",
      "Epoch 50/50\n",
      "3000/3000 [==============================] - 4s 1ms/step - loss: 0.0054 - acc: 1.0000\n"
     ]
    },
    {
     "data": {
      "text/plain": [
       "<keras.callbacks.History at 0x7fb601231278>"
      ]
     },
     "execution_count": 27,
     "metadata": {},
     "output_type": "execute_result"
    }
   ],
   "source": [
    "model_conv.fit(X_train_carre, Y_train_bin, epochs=epochs, batch_size=32)"
   ]
  },
  {
   "cell_type": "code",
   "execution_count": 28,
   "metadata": {},
   "outputs": [],
   "source": [
    "X_test_carre = X_test.reshape(-1, IMAGE_SIZE, IMAGE_SIZE, 1)"
   ]
  },
  {
   "cell_type": "code",
   "execution_count": 29,
   "metadata": {},
   "outputs": [
    {
     "name": "stdout",
     "output_type": "stream",
     "text": [
      "300/300 [==============================] - 0s 714us/step\n"
     ]
    },
    {
     "data": {
      "text/plain": [
       "[0.2541815531253815, 0.9166666658719381]"
      ]
     },
     "execution_count": 29,
     "metadata": {},
     "output_type": "execute_result"
    }
   ],
   "source": [
    "model_conv.evaluate(X_test_carre, Y_test)"
   ]
  },
  {
   "cell_type": "markdown",
   "metadata": {},
   "source": [
    "The accuracy reaches $90\\%$ on the test set, which means the model learns quite well the shapes on this dataset. However, we see that accuracy on train set reaches above $99\\%$ so there is some overfitting. We would need to reduce it with some sort of regularisation."
   ]
  },
  {
   "cell_type": "markdown",
   "metadata": {},
   "source": [
    "## 6 A Regression Problem"
   ]
  },
  {
   "cell_type": "code",
   "execution_count": 110,
   "metadata": {
    "scrolled": true
   },
   "outputs": [
    {
     "name": "stdout",
     "output_type": "stream",
     "text": [
      "Creating data:\n",
      "0\n",
      "10\n",
      "20\n",
      "30\n",
      "40\n",
      "50\n",
      "60\n",
      "70\n",
      "80\n",
      "90\n",
      "100\n",
      "110\n",
      "120\n",
      "130\n",
      "140\n",
      "150\n",
      "160\n",
      "170\n",
      "180\n",
      "190\n",
      "200\n",
      "210\n",
      "220\n",
      "230\n",
      "240\n",
      "250\n",
      "260\n",
      "270\n",
      "280\n",
      "290\n"
     ]
    }
   ],
   "source": [
    "[X_train, Y_train] = generate_dataset_regression(300, 20)"
   ]
  },
  {
   "cell_type": "code",
   "execution_count": 117,
   "metadata": {
    "scrolled": true
   },
   "outputs": [
    {
     "name": "stdout",
     "output_type": "stream",
     "text": [
      "Creating data:\n",
      "0\n",
      "10\n",
      "20\n",
      "30\n",
      "40\n",
      "50\n",
      "60\n",
      "70\n",
      "80\n",
      "90\n",
      "100\n",
      "110\n",
      "120\n",
      "130\n",
      "140\n",
      "150\n",
      "160\n",
      "170\n",
      "180\n",
      "190\n",
      "200\n",
      "210\n",
      "220\n",
      "230\n",
      "240\n",
      "250\n",
      "260\n",
      "270\n",
      "280\n",
      "290\n"
     ]
    }
   ],
   "source": [
    "[X_test, Y_test] = generate_test_set_regression()"
   ]
  },
  {
   "cell_type": "code",
   "execution_count": 111,
   "metadata": {},
   "outputs": [
    {
     "data": {
      "image/png": "[encoded data removed]",
      "text/plain": [
       "<Figure size 360x360 with 1 Axes>"
      ]
     },
     "metadata": {
      "needs_background": "light"
     },
     "output_type": "display_data"
    }
   ],
   "source": [
    "visualize_prediction(X_train[0], Y_train[0])"
   ]
  },
  {
   "cell_type": "code",
   "execution_count": 156,
   "metadata": {},
   "outputs": [],
   "source": [
    "from keras.models import Sequential\n",
    "from keras.layers import Dense, Activation\n",
    "nb_neurons1 = 6\n",
    "model_regression = Sequential([\n",
    "#     Dense(nb_neurons1, input_shape=(X_train.shape[1],)),\n",
    "    Conv2D(16, (5, 5), input_shape=(IMAGE_SIZE, IMAGE_SIZE, 1)),\n",
    "    Activation('relu'),\n",
    "    MaxPooling2D((2, 2)),\n",
    "#     Conv2D(64, (5, 5)),\n",
    "#     Activation('relu'),\n",
    "#     MaxPooling2D((2, 2)),\n",
    "    Conv2D(128, (5, 5)),\n",
    "    Activation('relu'),\n",
    "    MaxPooling2D((2, 2)),\n",
    "    Flatten(),\n",
    "#     Dense(1024),\n",
    "#     Activation('relu'),\n",
    "    Dense(nb_neurons1),\n",
    "#     Activation('softmax'),\n",
    "])"
   ]
  },
  {
   "cell_type": "code",
   "execution_count": 157,
   "metadata": {},
   "outputs": [],
   "source": [
    "model_regression.compile(loss='mean_squared_error',\n",
    "                   optimizer='adam',\n",
    "                  )"
   ]
  },
  {
   "cell_type": "code",
   "execution_count": 158,
   "metadata": {},
   "outputs": [],
   "source": [
    "epochs=25"
   ]
  },
  {
   "cell_type": "code",
   "execution_count": 159,
   "metadata": {},
   "outputs": [],
   "source": [
    "X_train_carre = X_train.reshape(-1, IMAGE_SIZE, IMAGE_SIZE, 1)"
   ]
  },
  {
   "cell_type": "code",
   "execution_count": 160,
   "metadata": {
    "scrolled": true
   },
   "outputs": [
    {
     "name": "stdout",
     "output_type": "stream",
     "text": [
      "Epoch 1/25\n",
      "300/300 [==============================] - 2s 7ms/step - loss: 1155.9631\n",
      "Epoch 2/25\n",
      "300/300 [==============================] - 1s 5ms/step - loss: 540.9282\n",
      "Epoch 3/25\n",
      "300/300 [==============================] - 1s 5ms/step - loss: 466.4806\n",
      "Epoch 4/25\n",
      "300/300 [==============================] - 1s 5ms/step - loss: 450.4251\n",
      "Epoch 5/25\n",
      "300/300 [==============================] - 1s 5ms/step - loss: 439.3267\n",
      "Epoch 6/25\n",
      "300/300 [==============================] - 1s 5ms/step - loss: 429.1510\n",
      "Epoch 7/25\n",
      "300/300 [==============================] - 1s 5ms/step - loss: 406.0098\n",
      "Epoch 8/25\n",
      "300/300 [==============================] - 1s 5ms/step - loss: 366.8195\n",
      "Epoch 9/25\n",
      "300/300 [==============================] - 1s 5ms/step - loss: 318.1160\n",
      "Epoch 10/25\n",
      "300/300 [==============================] - 1s 5ms/step - loss: 307.7446\n",
      "Epoch 11/25\n",
      "300/300 [==============================] - 1s 5ms/step - loss: 313.5270\n",
      "Epoch 12/25\n",
      "300/300 [==============================] - 1s 5ms/step - loss: 303.4259\n",
      "Epoch 13/25\n",
      "300/300 [==============================] - 1s 5ms/step - loss: 294.2840\n",
      "Epoch 14/25\n",
      "300/300 [==============================] - 1s 5ms/step - loss: 290.5573\n",
      "Epoch 15/25\n",
      "300/300 [==============================] - 1s 5ms/step - loss: 287.3937\n",
      "Epoch 16/25\n",
      "300/300 [==============================] - 1s 5ms/step - loss: 283.8183\n",
      "Epoch 17/25\n",
      "300/300 [==============================] - 1s 5ms/step - loss: 287.7831\n",
      "Epoch 18/25\n",
      "300/300 [==============================] - 1s 5ms/step - loss: 280.2542\n",
      "Epoch 19/25\n",
      "300/300 [==============================] - 1s 5ms/step - loss: 276.0970\n",
      "Epoch 20/25\n",
      "300/300 [==============================] - 1s 5ms/step - loss: 274.0841\n",
      "Epoch 21/25\n",
      "300/300 [==============================] - 1s 5ms/step - loss: 272.8940\n",
      "Epoch 22/25\n",
      "300/300 [==============================] - 2s 5ms/step - loss: 265.2372\n",
      "Epoch 23/25\n",
      "300/300 [==============================] - 3s 8ms/step - loss: 260.9625\n",
      "Epoch 24/25\n",
      "300/300 [==============================] - 2s 7ms/step - loss: 258.1468\n",
      "Epoch 25/25\n",
      "300/300 [==============================] - 2s 5ms/step - loss: 255.3053\n"
     ]
    },
    {
     "data": {
      "text/plain": [
       "<keras.callbacks.History at 0x7fb603a889b0>"
      ]
     },
     "execution_count": 160,
     "metadata": {},
     "output_type": "execute_result"
    }
   ],
   "source": [
    "model_regression.fit(X_train_carre, Y_train, epochs=epochs, batch_size=32)"
   ]
  },
  {
   "cell_type": "code",
   "execution_count": 161,
   "metadata": {},
   "outputs": [
    {
     "name": "stdout",
     "output_type": "stream",
     "text": [
      "300/300 [==============================] - 1s 3ms/step\n"
     ]
    },
    {
     "data": {
      "text/plain": [
       "354.2421398925781"
      ]
     },
     "execution_count": 161,
     "metadata": {},
     "output_type": "execute_result"
    }
   ],
   "source": [
    "model_regression.evaluate(X_test.reshape(-1, IMAGE_SIZE, IMAGE_SIZE, 1), (Y_test * IMAGE_SIZE))"
   ]
  },
  {
   "cell_type": "code",
   "execution_count": 162,
   "metadata": {},
   "outputs": [
    {
     "data": {
      "text/plain": [
       "array([[51.6079  , 39.06712 , 52.134884, 44.11731 , 57.892864, 43.54731 ]],\n",
       "      dtype=float32)"
      ]
     },
     "execution_count": 162,
     "metadata": {},
     "output_type": "execute_result"
    }
   ],
   "source": [
    "model_regression.predict(X_test[0].reshape(-1, IMAGE_SIZE, IMAGE_SIZE, 1))"
   ]
  },
  {
   "cell_type": "code",
   "execution_count": 163,
   "metadata": {},
   "outputs": [
    {
     "data": {
      "text/plain": [
       "array([67.77607628, 67.54904442, 48.71644082, 19.84080789, 26.1650831 ,\n",
       "       23.91642159])"
      ]
     },
     "execution_count": 163,
     "metadata": {},
     "output_type": "execute_result"
    }
   ],
   "source": [
    "(Y_test * IMAGE_SIZE)[0]"
   ]
  },
  {
   "cell_type": "code",
   "execution_count": null,
   "metadata": {},
   "outputs": [],
   "source": []
  }
 ],
 "metadata": {
  "kernelspec": {
   "display_name": "Python 3",
   "language": "python",
   "name": "python3"
  },
  "language_info": {
   "codemirror_mode": {
    "name": "ipython",
    "version": 3
   },
   "file_extension": ".py",
   "mimetype": "text/x-python",
   "name": "python",
   "nbconvert_exporter": "python",
   "pygments_lexer": "ipython3",
   "version": "3.5.2"
  }
 },
 "nbformat": 4,
 "nbformat_minor": 2
}
